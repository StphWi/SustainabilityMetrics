{
 "cells": [
  {
   "cell_type": "code",
   "execution_count": 1,
   "metadata": {},
   "outputs": [],
   "source": [
    "import csv\n",
    "import pandas as pd\n",
    "import numpy as np\n",
    "\n",
    "req_cols = [\"Name\", \"DSK Category\", \"Agriculture\", \"iLUC\", \"Food processing\", \"Packaging\",\n",
    "           \"Transport\", \"Retail\", \"Total kg CO2-eq/kg\", \"Energi (KJ/100 g)\", \"Fedt (g/100 g)\", \"Kulhydrat (g/100 g)\",\n",
    "           \"Protein (g/100 g)\"]\n",
    "\n",
    "df= pd.read_csv(\"food_data.csv\", index_col=None, header=0, usecols=req_cols)"
   ]
  },
  {
   "cell_type": "code",
   "execution_count": 2,
   "metadata": {},
   "outputs": [
    {
     "data": {
      "text/html": [
       "<div>\n",
       "<style scoped>\n",
       "    .dataframe tbody tr th:only-of-type {\n",
       "        vertical-align: middle;\n",
       "    }\n",
       "\n",
       "    .dataframe tbody tr th {\n",
       "        vertical-align: top;\n",
       "    }\n",
       "\n",
       "    .dataframe thead th {\n",
       "        text-align: right;\n",
       "    }\n",
       "</style>\n",
       "<table border=\"1\" class=\"dataframe\">\n",
       "  <thead>\n",
       "    <tr style=\"text-align: right;\">\n",
       "      <th></th>\n",
       "      <th>Name</th>\n",
       "      <th>DSK Category</th>\n",
       "      <th>Agriculture</th>\n",
       "      <th>iLUC</th>\n",
       "      <th>Food processing</th>\n",
       "      <th>Packaging</th>\n",
       "      <th>Transport</th>\n",
       "      <th>Retail</th>\n",
       "      <th>Total kg CO2-eq/kg</th>\n",
       "      <th>Energi (KJ/100 g)</th>\n",
       "      <th>Fedt (g/100 g)</th>\n",
       "      <th>Kulhydrat (g/100 g)</th>\n",
       "      <th>Protein (g/100 g)</th>\n",
       "    </tr>\n",
       "  </thead>\n",
       "  <tbody>\n",
       "    <tr>\n",
       "      <th>0</th>\n",
       "      <td>Pepper, sweet, red, raw</td>\n",
       "      <td>Vegetables</td>\n",
       "      <td>0.25</td>\n",
       "      <td>0.03</td>\n",
       "      <td>0.0</td>\n",
       "      <td>0.14</td>\n",
       "      <td>0.58</td>\n",
       "      <td>0.01</td>\n",
       "      <td>1.02</td>\n",
       "      <td>133.0</td>\n",
       "      <td>0.1</td>\n",
       "      <td>5.2</td>\n",
       "      <td>0.9</td>\n",
       "    </tr>\n",
       "    <tr>\n",
       "      <th>1</th>\n",
       "      <td>Tomato, ripe, raw, origin unknown</td>\n",
       "      <td>Vegetables</td>\n",
       "      <td>0.07</td>\n",
       "      <td>0.01</td>\n",
       "      <td>0.0</td>\n",
       "      <td>0.14</td>\n",
       "      <td>0.48</td>\n",
       "      <td>0.01</td>\n",
       "      <td>0.70</td>\n",
       "      <td>87.0</td>\n",
       "      <td>0.1</td>\n",
       "      <td>3.2</td>\n",
       "      <td>0.8</td>\n",
       "    </tr>\n",
       "    <tr>\n",
       "      <th>2</th>\n",
       "      <td>Squash, raw</td>\n",
       "      <td>Vegetables</td>\n",
       "      <td>0.14</td>\n",
       "      <td>0.04</td>\n",
       "      <td>0.0</td>\n",
       "      <td>0.06</td>\n",
       "      <td>0.58</td>\n",
       "      <td>0.01</td>\n",
       "      <td>0.83</td>\n",
       "      <td>81.0</td>\n",
       "      <td>0.2</td>\n",
       "      <td>2.4</td>\n",
       "      <td>1.4</td>\n",
       "    </tr>\n",
       "    <tr>\n",
       "      <th>3</th>\n",
       "      <td>Aubergine, raw</td>\n",
       "      <td>Vegetables</td>\n",
       "      <td>0.16</td>\n",
       "      <td>0.02</td>\n",
       "      <td>0.0</td>\n",
       "      <td>0.14</td>\n",
       "      <td>0.65</td>\n",
       "      <td>0.01</td>\n",
       "      <td>0.97</td>\n",
       "      <td>83.0</td>\n",
       "      <td>0.1</td>\n",
       "      <td>3.1</td>\n",
       "      <td>0.9</td>\n",
       "    </tr>\n",
       "    <tr>\n",
       "      <th>4</th>\n",
       "      <td>Tomato, dried</td>\n",
       "      <td>Vegetables</td>\n",
       "      <td>0.91</td>\n",
       "      <td>0.09</td>\n",
       "      <td>0.0</td>\n",
       "      <td>0.26</td>\n",
       "      <td>0.68</td>\n",
       "      <td>0.01</td>\n",
       "      <td>1.95</td>\n",
       "      <td>1187.0</td>\n",
       "      <td>3.0</td>\n",
       "      <td>43.5</td>\n",
       "      <td>14.1</td>\n",
       "    </tr>\n",
       "  </tbody>\n",
       "</table>\n",
       "</div>"
      ],
      "text/plain": [
       "                                Name DSK Category  Agriculture  iLUC  \\\n",
       "0            Pepper, sweet, red, raw   Vegetables         0.25  0.03   \n",
       "1  Tomato, ripe, raw, origin unknown   Vegetables         0.07  0.01   \n",
       "2                        Squash, raw   Vegetables         0.14  0.04   \n",
       "3                     Aubergine, raw   Vegetables         0.16  0.02   \n",
       "4                      Tomato, dried   Vegetables         0.91  0.09   \n",
       "\n",
       "   Food processing  Packaging  Transport  Retail  Total kg CO2-eq/kg  \\\n",
       "0              0.0       0.14       0.58    0.01                1.02   \n",
       "1              0.0       0.14       0.48    0.01                0.70   \n",
       "2              0.0       0.06       0.58    0.01                0.83   \n",
       "3              0.0       0.14       0.65    0.01                0.97   \n",
       "4              0.0       0.26       0.68    0.01                1.95   \n",
       "\n",
       "   Energi (KJ/100 g)  Fedt (g/100 g) Kulhydrat (g/100 g) Protein (g/100 g)  \n",
       "0              133.0             0.1                 5.2               0.9  \n",
       "1               87.0             0.1                 3.2               0.8  \n",
       "2               81.0             0.2                 2.4               1.4  \n",
       "3               83.0             0.1                 3.1               0.9  \n",
       "4             1187.0             3.0                43.5              14.1  "
      ]
     },
     "execution_count": 2,
     "metadata": {},
     "output_type": "execute_result"
    }
   ],
   "source": [
    "df.head(5)"
   ]
  },
  {
   "cell_type": "code",
   "execution_count": 3,
   "metadata": {},
   "outputs": [
    {
     "name": "stdout",
     "output_type": "stream",
     "text": [
      "<class 'pandas.core.frame.DataFrame'>\n",
      "RangeIndex: 595 entries, 0 to 594\n",
      "Data columns (total 13 columns):\n",
      " #   Column               Non-Null Count  Dtype  \n",
      "---  ------               --------------  -----  \n",
      " 0   Name                 500 non-null    object \n",
      " 1   DSK Category         500 non-null    object \n",
      " 2   Agriculture          500 non-null    float64\n",
      " 3   iLUC                 500 non-null    float64\n",
      " 4   Food processing      500 non-null    float64\n",
      " 5   Packaging            500 non-null    float64\n",
      " 6   Transport            500 non-null    float64\n",
      " 7   Retail               500 non-null    float64\n",
      " 8   Total kg CO2-eq/kg   500 non-null    float64\n",
      " 9   Energi (KJ/100 g)    500 non-null    float64\n",
      " 10  Fedt (g/100 g)       500 non-null    float64\n",
      " 11  Kulhydrat (g/100 g)  500 non-null    object \n",
      " 12  Protein (g/100 g)    500 non-null    object \n",
      "dtypes: float64(9), object(4)\n",
      "memory usage: 60.6+ KB\n",
      "None\n"
     ]
    }
   ],
   "source": [
    "print(df.info())"
   ]
  },
  {
   "cell_type": "code",
   "execution_count": 4,
   "metadata": {},
   "outputs": [],
   "source": [
    "num_cols=['Protein (g/100 g)', 'Kulhydrat (g/100 g)']\n",
    "\n",
    "for cols in num_cols:\n",
    "    df = df[pd.to_numeric(df[cols], errors='coerce').notnull()]\n",
    "    df = df.astype({cols : float}, errors='raise')"
   ]
  },
  {
   "cell_type": "code",
   "execution_count": 5,
   "metadata": {},
   "outputs": [],
   "source": [
    "cat_cols=[\"DSK Category\"]\n",
    "\n",
    "for cols in cat_cols:\n",
    "    df = df.astype({cols : 'category'}, errors='raise')"
   ]
  },
  {
   "cell_type": "code",
   "execution_count": 6,
   "metadata": {},
   "outputs": [],
   "source": [
    "s_cols=[\"Name\"]\n",
    "\n",
    "for cols in s_cols:\n",
    "    df = df.astype({cols : 'string'}, errors='raise')"
   ]
  },
  {
   "cell_type": "code",
   "execution_count": 7,
   "metadata": {},
   "outputs": [
    {
     "name": "stdout",
     "output_type": "stream",
     "text": [
      "<class 'pandas.core.frame.DataFrame'>\n",
      "Int64Index: 499 entries, 0 to 499\n",
      "Data columns (total 13 columns):\n",
      " #   Column               Non-Null Count  Dtype   \n",
      "---  ------               --------------  -----   \n",
      " 0   Name                 499 non-null    string  \n",
      " 1   DSK Category         499 non-null    category\n",
      " 2   Agriculture          499 non-null    float64 \n",
      " 3   iLUC                 499 non-null    float64 \n",
      " 4   Food processing      499 non-null    float64 \n",
      " 5   Packaging            499 non-null    float64 \n",
      " 6   Transport            499 non-null    float64 \n",
      " 7   Retail               499 non-null    float64 \n",
      " 8   Total kg CO2-eq/kg   499 non-null    float64 \n",
      " 9   Energi (KJ/100 g)    499 non-null    float64 \n",
      " 10  Fedt (g/100 g)       499 non-null    float64 \n",
      " 11  Kulhydrat (g/100 g)  499 non-null    float64 \n",
      " 12  Protein (g/100 g)    499 non-null    float64 \n",
      "dtypes: category(1), float64(11), string(1)\n",
      "memory usage: 51.8 KB\n",
      "None\n"
     ]
    }
   ],
   "source": [
    "print(df.info())"
   ]
  }
 ],
 "metadata": {
  "interpreter": {
   "hash": "fe8b50698deae513ca3b8b509e7e766fe981f20392f78867d99f2a7205dc38b4"
  },
  "kernelspec": {
   "display_name": "Python 3",
   "language": "python",
   "name": "python3"
  },
  "language_info": {
   "codemirror_mode": {
    "name": "ipython",
    "version": 3
   },
   "file_extension": ".py",
   "mimetype": "text/x-python",
   "name": "python",
   "nbconvert_exporter": "python",
   "pygments_lexer": "ipython3",
   "version": "3.8.8"
  }
 },
 "nbformat": 4,
 "nbformat_minor": 2
}
